{
 "cells": [
  {
   "cell_type": "markdown",
   "id": "bfdfee7a",
   "metadata": {},
   "source": [
    "# Аналитическая система для логистической компании"
   ]
  },
  {
   "cell_type": "markdown",
   "id": "80c2ef55",
   "metadata": {},
   "source": [
    "На основе датасета amazon_delivery.csv  \n",
    "https://www.kaggle.com/datasets/sujalsuthar/amazon-delivery-dataset"
   ]
  },
  {
   "cell_type": "markdown",
   "id": "cc42f4d1",
   "metadata": {},
   "source": [
    "## Подготовка данных"
   ]
  },
  {
   "cell_type": "code",
   "execution_count": 1,
   "id": "1df904e8",
   "metadata": {},
   "outputs": [],
   "source": [
    "import pandas as pd"
   ]
  },
  {
   "cell_type": "code",
   "execution_count": 2,
   "id": "1453bb3a",
   "metadata": {},
   "outputs": [
    {
     "name": "stdout",
     "output_type": "stream",
     "text": [
      "        Order_ID  Agent_Age  Agent_Rating  Store_Latitude  Store_Longitude  \\\n",
      "0  ialx566343618         37           4.9       22.745049        75.892471   \n",
      "1  akqg208421122         34           4.5       12.913041        77.683237   \n",
      "2  njpu434582536         23           4.4       12.914264        77.678400   \n",
      "3  rjto796129700         38           4.7       11.003669        76.976494   \n",
      "4  zguw716275638         32           4.6       12.972793        80.249982   \n",
      "\n",
      "   Drop_Latitude  Drop_Longitude  Order_Date Order_Time Pickup_Time  \\\n",
      "0      22.765049       75.912471  2022-03-19   11:30:00    11:45:00   \n",
      "1      13.043041       77.813237  2022-03-25   19:45:00    19:50:00   \n",
      "2      12.924264       77.688400  2022-03-19   08:30:00    08:45:00   \n",
      "3      11.053669       77.026494  2022-04-05   18:00:00    18:10:00   \n",
      "4      13.012793       80.289982  2022-03-26   13:30:00    13:45:00   \n",
      "\n",
      "      Weather  Traffic      Vehicle            Area  Delivery_Time  \\\n",
      "0       Sunny    High   motorcycle           Urban             120   \n",
      "1      Stormy     Jam      scooter   Metropolitian             165   \n",
      "2  Sandstorms     Low   motorcycle           Urban             130   \n",
      "3       Sunny  Medium   motorcycle   Metropolitian             105   \n",
      "4      Cloudy    High      scooter   Metropolitian             150   \n",
      "\n",
      "      Category  \n",
      "0     Clothing  \n",
      "1  Electronics  \n",
      "2       Sports  \n",
      "3    Cosmetics  \n",
      "4         Toys  \n"
     ]
    }
   ],
   "source": [
    "# Загрузка данных\n",
    "df = pd.read_csv(r\"C:\\Users\\User\\Documents\\GitHub\\delivery\\data\\amazon_delivery.csv\")\n",
    "\n",
    "# Первые 5 строк\n",
    "print(df.head())"
   ]
  },
  {
   "cell_type": "code",
   "execution_count": 3,
   "id": "2252f6ec",
   "metadata": {},
   "outputs": [
    {
     "name": "stdout",
     "output_type": "stream",
     "text": [
      "<class 'pandas.core.frame.DataFrame'>\n",
      "RangeIndex: 43739 entries, 0 to 43738\n",
      "Data columns (total 16 columns):\n",
      " #   Column           Non-Null Count  Dtype  \n",
      "---  ------           --------------  -----  \n",
      " 0   Order_ID         43739 non-null  object \n",
      " 1   Agent_Age        43739 non-null  int64  \n",
      " 2   Agent_Rating     43685 non-null  float64\n",
      " 3   Store_Latitude   43739 non-null  float64\n",
      " 4   Store_Longitude  43739 non-null  float64\n",
      " 5   Drop_Latitude    43739 non-null  float64\n",
      " 6   Drop_Longitude   43739 non-null  float64\n",
      " 7   Order_Date       43739 non-null  object \n",
      " 8   Order_Time       43739 non-null  object \n",
      " 9   Pickup_Time      43739 non-null  object \n",
      " 10  Weather          43648 non-null  object \n",
      " 11  Traffic          43739 non-null  object \n",
      " 12  Vehicle          43739 non-null  object \n",
      " 13  Area             43739 non-null  object \n",
      " 14  Delivery_Time    43739 non-null  int64  \n",
      " 15  Category         43739 non-null  object \n",
      "dtypes: float64(5), int64(2), object(9)\n",
      "memory usage: 5.3+ MB\n",
      "None\n"
     ]
    }
   ],
   "source": [
    "# Информация о колонках и пропусках\n",
    "print(df.info())"
   ]
  },
  {
   "cell_type": "code",
   "execution_count": 4,
   "id": "029330c4",
   "metadata": {},
   "outputs": [
    {
     "name": "stdout",
     "output_type": "stream",
     "text": [
      "          Agent_Age  Agent_Rating  Store_Latitude  Store_Longitude  \\\n",
      "count  43739.000000  43685.000000    43739.000000     43739.000000   \n",
      "mean      29.567137      4.633780       17.210960        70.661177   \n",
      "std        5.815155      0.334716        7.764225        21.475005   \n",
      "min       15.000000      1.000000      -30.902872       -88.366217   \n",
      "25%       25.000000      4.500000       12.933298        73.170283   \n",
      "50%       30.000000      4.700000       18.551440        75.898497   \n",
      "75%       35.000000      4.900000       22.732225        78.045359   \n",
      "max       50.000000      6.000000       30.914057        88.433452   \n",
      "\n",
      "       Drop_Latitude  Drop_Longitude  Delivery_Time  \n",
      "count   43739.000000    43739.000000   43739.000000  \n",
      "mean       17.459031       70.821842     124.905645  \n",
      "std         7.342950       21.153148      51.915451  \n",
      "min         0.010000        0.010000      10.000000  \n",
      "25%        12.985996       73.280000      90.000000  \n",
      "50%        18.633626       76.002574     125.000000  \n",
      "75%        22.785049       78.104095     160.000000  \n",
      "max        31.054057       88.563452     270.000000  \n"
     ]
    }
   ],
   "source": [
    "# Статистика по числовым колонкам\n",
    "print(df.describe())"
   ]
  },
  {
   "cell_type": "markdown",
   "id": "60bbe1b9",
   "metadata": {},
   "source": [
    "| Поле (Column)          | Описание                                | Значения без пропусков | Комментарии по обработке                                                                 | Итого значений |\n",
    "|------------------------|-----------------------------------------|------------------------|------------------------------------------------------------------------------------------|----------------|\n",
    "| **Order_ID**           | Уникальный идентификатор заказа         | 43739                  | ID уникальны. Дубликаты отсутствуют.                                                     | 43594          |\n",
    "| **Agent_Age**          | Возраст курьера                         | 43739                  | Аномалий нет. Данные преобразованы в `int8`                                              | 43594          |\n",
    "| **Agent_Rating**       | Рейтинг курьера (1.0-5.0)               | 43685 (54 пропуска)    | Пропуски заполнены медианой, аномалии удалены, данные преобразованы в `float32`          | 43594          |\n",
    "| **Store_Latitude**     | Широта точки отправления                | 43739                  | Пропусков и аномалий нет. Преобразовано в `float32`                                       | 43594          |\n",
    "| **Store_Longitude**    | Долгота точки отправления               | 43739                  | Пропусков и аномалий нет. Преобразовано в `float32`                                      | 43594          |\n",
    "| **Drop_Latitude**      | Широта точки доставки                   | 43739                  | Пропусков и аномалий нет. Преобразовано в `float32`                                      | 43594          |\n",
    "| **Drop_Longitude**     | Долгота точки доставки                  | 43739                  | Пропусков и аномалий нет. Преобразовано в `float32`                                      | 43594          |\n",
    "| **Order_Date**         | Дата создания заказа                    | 43739                  | Объединено в Order_DateTime. Неликвидные данные преобразованы в пропуски. Строки с такими пропусками удалены. Данные преобразованы в `datetime` | 43594          |\n",
    "| **Order_Time**         | Время создания заказа                   | 43739                  | Объединено в Order_DateTime. Неликвидные данные преобразованы в пропуски. Строки с такими пропусками удалены. Данные преобразованы в `datetime` | 43594          |\n",
    "| **Pickup_Time**        | Время забора заказа курьером            | 43739                  | Преобразовано в `timedelta64`                                                            | 43594          |\n",
    "| **Weather**            | Погодные условия (\"Rain\", \"Sunny\" и т.д.) | 43648 (91 пропуск)    | Пропуски заполнены модой. Данные преобразованы в `category`                              | 43594          |\n",
    "| **Traffic**            | Уровень трафика (\"Low\", \"Medium\", \"High\") | 43739                 | Данные преобразованы в `category`                                                        | 43594          |\n",
    "| **Vehicle**            | Тип транспорта (\"Bike\", \"Car\")          | 43739                  | Данные преобразованы в `category`                                                        | 43594          |\n",
    "| **Area**               | Район доставки (\"Urban\", \"Suburban\")    | 43739                  | Данные преобразованы в `category`                                                        | 43594          |\n",
    "| **Delivery_Time**      | Время доставки в минутах                | 43739                  | Данные преобразованы в `int16`                                                           | 43594          |\n",
    "| **Category**           | Категория товара (\"Food\", \"Electronics\")| 43739                  | Данные преобразованы в `category`                                                        | 43594          |"
   ]
  },
  {
   "cell_type": "code",
   "execution_count": 5,
   "id": "470eb5ab",
   "metadata": {},
   "outputs": [],
   "source": [
    "df[\"Order_ID\"].nunique() == len(df)\n",
    "# Все ID заказов уникальны. Дубликаты отсутствуют.\n",
    "df['Order_ID'] = df['Order_ID'].astype('string')"
   ]
  },
  {
   "cell_type": "code",
   "execution_count": 6,
   "id": "b72643a1",
   "metadata": {},
   "outputs": [],
   "source": [
    "# Agent_Age\n",
    "# min = 15, max = 50 из данных describe. Аномалий нет (вне 14-90 лет).\n",
    "# можно преобразовать в int8\n",
    "df[\"Agent_Age\"] = df[\"Agent_Age\"].astype(\"int8\")"
   ]
  },
  {
   "cell_type": "code",
   "execution_count": 7,
   "id": "73bb2fcf",
   "metadata": {},
   "outputs": [
    {
     "name": "stdout",
     "output_type": "stream",
     "text": [
      "53\n"
     ]
    }
   ],
   "source": [
    "# Agent_Rating\n",
    "# Из describe видно что есть выбросы. max = 6.0, хотя шкала 5.0\n",
    "print((df['Agent_Rating'] > 5.0).sum())\n",
    "# 53 аномалии, их можно удалить, пропорционально пересчитать исходя из 6 бальной шкалы или же заменить медианой\n",
    "# так как потери не большие (~0.1%), более правильно будет избавиться от неликвидных данных\n",
    "df = df[df['Agent_Rating'] <= 5.0]\n",
    "# пропуски значений заменим медианой\n",
    "median_rating = df[\"Agent_Rating\"].median() \n",
    "df[\"Agent_Rating\"] = df[\"Agent_Rating\"].fillna(median_rating)\n",
    "# преобразуем в float32\n",
    "df[\"Agent_Rating\"] = df[\"Agent_Rating\"].astype(\"float32\")\n"
   ]
  },
  {
   "cell_type": "code",
   "execution_count": 8,
   "id": "e1499eee",
   "metadata": {},
   "outputs": [],
   "source": [
    "# Store_Latitude\n",
    "# пропусков и аномалий нет (все данные в диапазоне [-90, 90]). преобразуем в float32\n",
    "df[\"Store_Latitude\"] = df[\"Store_Latitude\"].astype(\"float32\")"
   ]
  },
  {
   "cell_type": "code",
   "execution_count": 9,
   "id": "4574a21a",
   "metadata": {},
   "outputs": [],
   "source": [
    "# Store_Longitude\n",
    "# пропусков и аномалий нет (все данные в диапазоне [-180, 180]). преобразуем в float32\n",
    "df[\"Store_Longitude\"] = df[\"Store_Longitude\"].astype(\"float32\")"
   ]
  },
  {
   "cell_type": "code",
   "execution_count": 10,
   "id": "212cd036",
   "metadata": {},
   "outputs": [],
   "source": [
    "# Drop_Latitude\n",
    "# пропусков и аномалий нет (все данные в диапазоне [-90, 90]). преобразуем в float32\n",
    "df[\"Drop_Latitude\"] = df[\"Drop_Latitude\"].astype(\"float32\")\n",
    "# Drop_Longitude\n",
    "# пропусков и аномалий нет (все данные в диапазоне [-180, 180]). преобразуем в float32\n",
    "df[\"Drop_Longitude\"] = df[\"Drop_Longitude\"].astype(\"float32\")"
   ]
  },
  {
   "cell_type": "code",
   "execution_count": 11,
   "id": "93fe9f0e",
   "metadata": {},
   "outputs": [
    {
     "name": "stdout",
     "output_type": "stream",
     "text": [
      "Пропусков в Order_DateTime: 38\n"
     ]
    }
   ],
   "source": [
    "# Order_Date (удален)\n",
    "# Order_Time (удален)\n",
    "# объединено в Order_DateTime. неликвидные данные преобразоны в пропуски. строчки с такими пропусками удалены.\n",
    "def convert(row):\n",
    "    try:\n",
    "        return pd.to_datetime(row['Order_Date'] + ' ' + row['Order_Time']) # row — это одна строка DataFrame\n",
    "    except:\n",
    "        return pd.NaT\n",
    "\n",
    "df['Order_DateTime'] = df.apply(convert, axis=1)\n",
    "df.drop([\"Order_Date\", \"Order_Time\"], axis=1, inplace=True)\n",
    "print(f\"Пропусков в Order_DateTime: {df['Order_DateTime'].isna().sum()}\") # пропусков немного (38)\n",
    "\n",
    "df.dropna(subset=['Order_DateTime'], inplace=True) # удаляем пропуски\n"
   ]
  },
  {
   "cell_type": "code",
   "execution_count": 12,
   "id": "c1a96576",
   "metadata": {},
   "outputs": [],
   "source": [
    "# Pickup_Time\n",
    "# конвертируем в timedelta64\n",
    "df['Pickup_Time'] = pd.to_timedelta(df['Pickup_Time'])"
   ]
  },
  {
   "cell_type": "code",
   "execution_count": 13,
   "id": "b48e075e",
   "metadata": {},
   "outputs": [],
   "source": [
    "# Weather\n",
    "# Пропуски заполнены модой. Данные преобразованы в category.\n",
    "mode_value = df[\"Weather\"].mode() \n",
    "df[\"Weather\"] = df[\"Weather\"].fillna(mode_value).astype('category')\n",
    "# Traffic\n",
    "# Данные преобразованы в category.\n",
    "df[\"Traffic\"] = df[\"Traffic\"].astype('category')\n",
    "# Vehicle\n",
    "# Данные преобразованы в category.\n",
    "df[\"Vehicle\"] = df[\"Vehicle\"].astype('category')\n",
    "# Area\n",
    "# Данные преобразованы в category.\n",
    "df[\"Area\"] = df[\"Area\"].astype('category')\n",
    "# Delivery_Time\n",
    "# Данные преобразованы в int16.\n",
    "df[\"Delivery_Time\"] = df[\"Delivery_Time\"].astype('int16')\n",
    "# Category\n",
    "# Данные преобразованы в category.\n",
    "df[\"Category\"] = df[\"Category\"].astype('category')\n",
    "\n"
   ]
  },
  {
   "cell_type": "code",
   "execution_count": 14,
   "id": "7cb02a8d",
   "metadata": {},
   "outputs": [
    {
     "name": "stdout",
     "output_type": "stream",
     "text": [
      "<class 'pandas.core.frame.DataFrame'>\n",
      "Index: 43594 entries, 0 to 43738\n",
      "Data columns (total 15 columns):\n",
      " #   Column           Non-Null Count  Dtype          \n",
      "---  ------           --------------  -----          \n",
      " 0   Order_ID         43594 non-null  string         \n",
      " 1   Agent_Age        43594 non-null  int8           \n",
      " 2   Agent_Rating     43594 non-null  float32        \n",
      " 3   Store_Latitude   43594 non-null  float32        \n",
      " 4   Store_Longitude  43594 non-null  float32        \n",
      " 5   Drop_Latitude    43594 non-null  float32        \n",
      " 6   Drop_Longitude   43594 non-null  float32        \n",
      " 7   Pickup_Time      43594 non-null  timedelta64[ns]\n",
      " 8   Weather          43594 non-null  category       \n",
      " 9   Traffic          43594 non-null  category       \n",
      " 10  Vehicle          43594 non-null  category       \n",
      " 11  Area             43594 non-null  category       \n",
      " 12  Delivery_Time    43594 non-null  int16          \n",
      " 13  Category         43594 non-null  category       \n",
      " 14  Order_DateTime   43594 non-null  datetime64[ns] \n",
      "dtypes: category(5), datetime64[ns](1), float32(5), int16(1), int8(1), string(1), timedelta64[ns](1)\n",
      "memory usage: 2.5 MB\n",
      "None\n"
     ]
    }
   ],
   "source": [
    "print(df.info())"
   ]
  },
  {
   "cell_type": "markdown",
   "id": "0a0415a9",
   "metadata": {},
   "source": [
    "Данные очищены, оптимизированы и готовы к дальнейшим манипуляциям."
   ]
  }
 ],
 "metadata": {
  "kernelspec": {
   "display_name": "venv",
   "language": "python",
   "name": "venv"
  },
  "language_info": {
   "codemirror_mode": {
    "name": "ipython",
    "version": 3
   },
   "file_extension": ".py",
   "mimetype": "text/x-python",
   "name": "python",
   "nbconvert_exporter": "python",
   "pygments_lexer": "ipython3",
   "version": "3.12.8"
  }
 },
 "nbformat": 4,
 "nbformat_minor": 5
}
